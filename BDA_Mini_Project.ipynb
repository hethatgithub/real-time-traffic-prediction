{
  "nbformat": 4,
  "nbformat_minor": 0,
  "metadata": {
    "colab": {
      "provenance": []
    },
    "kernelspec": {
      "name": "python3",
      "display_name": "Python 3"
    },
    "language_info": {
      "name": "python"
    }
  },
  "cells": [
    {
      "cell_type": "code",
      "execution_count": null,
      "metadata": {
        "colab": {
          "base_uri": "https://localhost:8080/"
        },
        "id": "yN1uZbzABdPp",
        "outputId": "d79e9c2b-ef50-47c3-aec5-d0e93155e686"
      },
      "outputs": [
        {
          "output_type": "stream",
          "name": "stdout",
          "text": [
            "                 time  traffic_volume  accidents\n",
            "0 2023-01-01 00:00:00             202          0\n",
            "1 2023-01-01 01:00:00             535          0\n",
            "2 2023-01-01 02:00:00             960          0\n",
            "3 2023-01-01 03:00:00             370          0\n",
            "4 2023-01-01 04:00:00             206          0\n"
          ]
        }
      ],
      "source": [
        "import pandas as pd\n",
        "import numpy as np\n",
        "\n",
        "# Simulating traffic data\n",
        "np.random.seed(42)\n",
        "data = {\n",
        "    'time': pd.date_range(start='2023-01-01', periods=100, freq='h'),\n",
        "    'traffic_volume': np.random.randint(100, 1000, size=100),\n",
        "    'accidents': np.random.choice([0, 1], size=100, p=[0.9, 0.1])\n",
        "}\n",
        "\n",
        "df = pd.DataFrame(data)\n",
        "print(df.head())"
      ]
    },
    {
      "cell_type": "code",
      "source": [
        "from sklearn.model_selection import train_test_split\n",
        "from sklearn.linear_model import LinearRegression\n",
        "from sklearn.metrics import mean_squared_error\n",
        "\n",
        "# Feature Engineering (Converting time into useful features)\n",
        "df['hour'] = df['time'].dt.hour\n",
        "df['day_of_week'] = df['time'].dt.dayofweek\n",
        "\n",
        "# Define features and target\n",
        "X = df[['hour', 'day_of_week']]\n",
        "y = df['traffic_volume']\n",
        "\n",
        "# Train-test split\n",
        "X_train, X_test, y_train, y_test = train_test_split(X, y, test_size=0.2, random_state=42)\n",
        "\n",
        "# Train a linear regression model\n",
        "model = LinearRegression()\n",
        "model.fit(X_train, y_train)\n",
        "\n",
        "# Make predictions\n",
        "y_pred = model.predict(X_test)\n",
        "\n",
        "# Evaluate the model\n",
        "mse = mean_squared_error(y_test, y_pred)\n",
        "print(f'Mean Squared Error: {mse}')"
      ],
      "metadata": {
        "colab": {
          "base_uri": "https://localhost:8080/"
        },
        "id": "NcT8fi3CBjBI",
        "outputId": "314abda5-5d14-41da-f8c5-4f6173759d82"
      },
      "execution_count": null,
      "outputs": [
        {
          "output_type": "stream",
          "name": "stdout",
          "text": [
            "Mean Squared Error: 95112.0634843889\n"
          ]
        }
      ]
    },
    {
      "cell_type": "code",
      "source": [
        "def control_traffic_signal(traffic_volume):\n",
        "    if traffic_volume > 700:\n",
        "        return \"Green for 60 seconds\"\n",
        "    elif traffic_volume > 400:\n",
        "        return \"Green for 40 seconds\"\n",
        "    else:\n",
        "        return \"Green for 30 seconds\"\n",
        "\n",
        "# Simulating real-time traffic signal control\n",
        "for i in range(5):\n",
        "    current_volume = df.iloc[i]['traffic_volume']\n",
        "    signal_time = control_traffic_signal(current_volume)\n",
        "    print(f\"At hour {df.iloc[i]['hour']}, traffic volume is {current_volume}. Signal: {signal_time}\")"
      ],
      "metadata": {
        "colab": {
          "base_uri": "https://localhost:8080/"
        },
        "id": "-Uc5xMznBsoq",
        "outputId": "81702c38-2723-4bfc-c353-6e35a7e3f703"
      },
      "execution_count": null,
      "outputs": [
        {
          "output_type": "stream",
          "name": "stdout",
          "text": [
            "At hour 0, traffic volume is 202. Signal: Green for 30 seconds\n",
            "At hour 1, traffic volume is 535. Signal: Green for 40 seconds\n",
            "At hour 2, traffic volume is 960. Signal: Green for 60 seconds\n",
            "At hour 3, traffic volume is 370. Signal: Green for 30 seconds\n",
            "At hour 4, traffic volume is 206. Signal: Green for 30 seconds\n"
          ]
        }
      ]
    },
    {
      "cell_type": "code",
      "source": [
        "import matplotlib.pyplot as plt\n",
        "\n",
        "# Plotting traffic volume over time\n",
        "plt.figure(figsize=(10, 5))\n",
        "plt.plot(df['time'], df['traffic_volume'], label='Traffic Volume', color='b')\n",
        "plt.xlabel('Time')\n",
        "plt.ylabel('Traffic Volume')\n",
        "plt.title('Traffic Volume Over Time')\n",
        "plt.legend()\n",
        "plt.show()"
      ],
      "metadata": {
        "colab": {
          "base_uri": "https://localhost:8080/",
          "height": 487
        },
        "id": "RU2Cm0RHBxAR",
        "outputId": "b6b543cf-2232-49c1-ce9b-1ea1a824bc52"
      },
      "execution_count": null,
      "outputs": [
        {
          "output_type": "display_data",
          "data": {
            "text/plain": [
              "<Figure size 1000x500 with 1 Axes>"
            ],
            "image/png": "[encoded data removed]"
          },
          "metadata": {}
        }
      ]
    },
    {
      "cell_type": "code",
      "source": [
        "import pandas as pd\n",
        "import numpy as np\n",
        "import time\n",
        "from sklearn.linear_model import LinearRegression\n",
        "from sklearn.preprocessing import StandardScaler\n",
        "\n",
        "# Simulate a larger dataset for training\n",
        "np.random.seed(42)\n",
        "data = {\n",
        "    'time': pd.date_range(start='2023-01-01', periods=100, freq='H'),\n",
        "    'traffic_volume': np.random.randint(100, 1000, size=100),\n",
        "    'accidents': np.random.choice([0, 1], size=100, p=[0.9, 0.1]),\n",
        "    'weather_condition': np.random.choice([0, 1], size=100, p=[0.8, 0.2]),  # 0: Clear, 1: Bad Weather\n",
        "    'special_event': np.random.choice([0, 1], size=100, p=[0.95, 0.05]),   # 0: No Event, 1: Event Day\n",
        "}\n",
        "\n",
        "df = pd.DataFrame(data)\n",
        "\n",
        "# Feature Engineering\n",
        "df['hour'] = df['time'].dt.hour\n",
        "df['day_of_week'] = df['time'].dt.dayofweek\n",
        "\n",
        "# Select features for model training\n",
        "X = df[['hour', 'day_of_week', 'accidents', 'weather_condition', 'special_event']]\n",
        "y = df['traffic_volume']\n",
        "\n",
        "# Normalize the features\n",
        "scaler = StandardScaler()\n",
        "a_scaled = scaler.fit_transform(X)\n",
        "\n",
        "# Train model\n",
        "model = LinearRegression()\n",
        "model.fit(a_scaled, y)\n",
        "\n",
        "# Simulate real-time data streaming\n",
        "def stream_traffic_data():\n",
        "    for i in range(100, 200):  # Generating new real-time data\n",
        "        current_time = pd.Timestamp.now()\n",
        "        current_hour = current_time.hour\n",
        "        current_day_of_week = current_time.dayofweek\n",
        "        current_accidents = np.random.choice([0, 1], p=[0.9, 0.1])\n",
        "        current_weather = np.random.choice([0, 1], p=[0.8, 0.2])  # 0: Clear, 1: Bad Weather\n",
        "        current_event = np.random.choice([0, 1], p=[0.95, 0.05])  # 0: No Event, 1: Event\n",
        "\n",
        "        # Simulating real-time traffic volume\n",
        "        current_traffic_volume = np.random.randint(100, 1000)\n",
        "\n",
        "        # Creating a new row of traffic data\n",
        "        new_data = {\n",
        "            'time': current_time,\n",
        "            'traffic_volume': current_traffic_volume,\n",
        "            'accidents': current_accidents,\n",
        "            'weather_condition': current_weather,\n",
        "            'special_event': current_event,\n",
        "            'hour': current_hour,\n",
        "            'day_of_week': current_day_of_week\n",
        "        }\n",
        "\n",
        "        yield new_data\n",
        "\n",
        "# Traffic signal control logic based on predicted traffic volume\n",
        "def control_traffic_signal(traffic_volume):\n",
        "    if traffic_volume > 700:\n",
        "        return \"Green for 60 seconds\"\n",
        "    elif traffic_volume > 400:\n",
        "        return \"Green for 40 seconds\"\n",
        "    else:\n",
        "        return \"Green for 30 seconds\"\n",
        "\n",
        "# Real-time processing\n",
        "def real_time_processing():\n",
        "    for new_data in stream_traffic_data():\n",
        "        print(f\"\\nReal-time Traffic Data: {new_data}\")\n",
        "\n",
        "        # Prepare the data for prediction (use scaler for consistency)\n",
        "        a_new_df = [[\n",
        "            new_data['hour'],\n",
        "            new_data['day_of_week'],\n",
        "            new_data['accidents'],\n",
        "            new_data['weather_condition'],\n",
        "            new_data['special_event']\n",
        "        ]]\n",
        "        a_new_scaled = scaler.transform(a_new_df)\n",
        "\n",
        "        # Predict future traffic volume using the real-time data\n",
        "        predicted_traffic_volume = model.predict(a_new_scaled)[0]\n",
        "\n",
        "        print(f\"Predicted Traffic Volume: {predicted_traffic_volume:.2f}\")\n",
        "\n",
        "        # Control traffic signal based on predicted volume\n",
        "        signal_time = control_traffic_signal(predicted_traffic_volume)\n",
        "        print(f\"At hour {new_data['hour']}, control signal: {signal_time}\")\n",
        "\n",
        "        # Sleep for 1 second to simulate real-time delay\n",
        "        time.sleep(1)\n",
        "\n",
        "# Run real-time processing simulation\n",
        "real_time_processing()"
      ],
      "metadata": {
        "colab": {
          "base_uri": "https://localhost:8080/"
        },
        "id": "ozvS4LfLDDSy",
        "outputId": "f02c10bc-cc4e-4f87-aeb7-66b11627c217"
      },
      "execution_count": null,
      "outputs": [
        {
          "output_type": "stream",
          "name": "stderr",
          "text": [
            "<ipython-input-14-a88f463e55f0>:10: FutureWarning: 'H' is deprecated and will be removed in a future version, please use 'h' instead.\n",
            "  'time': pd.date_range(start='2023-01-01', periods=100, freq='H'),\n",
            "/usr/local/lib/python3.10/dist-packages/sklearn/base.py:493: UserWarning: X does not have valid feature names, but StandardScaler was fitted with feature names\n",
            "  warnings.warn(\n"
          ]
        },
        {
          "output_type": "stream",
          "name": "stdout",
          "text": [
            "\n",
            "Real-time Traffic Data: {'time': Timestamp('2024-10-07 13:23:05.392492'), 'traffic_volume': 763, 'accidents': 0, 'weather_condition': 0, 'special_event': 0, 'hour': 13, 'day_of_week': 0}\n",
            "Predicted Traffic Volume: 567.45\n",
            "At hour 13, control signal: Green for 40 seconds\n",
            "\n",
            "Real-time Traffic Data: {'time': Timestamp('2024-10-07 13:23:06.394476'), 'traffic_volume': 790, 'accidents': 0, 'weather_condition': 0, 'special_event': 0, 'hour': 13, 'day_of_week': 0}\n",
            "Predicted Traffic Volume: 567.45\n",
            "At hour 13, control signal: Green for 40 seconds\n"
          ]
        },
        {
          "output_type": "stream",
          "name": "stderr",
          "text": [
            "/usr/local/lib/python3.10/dist-packages/sklearn/base.py:493: UserWarning: X does not have valid feature names, but StandardScaler was fitted with feature names\n",
            "  warnings.warn(\n"
          ]
        },
        {
          "output_type": "stream",
          "name": "stdout",
          "text": [
            "\n",
            "Real-time Traffic Data: {'time': Timestamp('2024-10-07 13:23:07.396795'), 'traffic_volume': 267, 'accidents': 0, 'weather_condition': 0, 'special_event': 0, 'hour': 13, 'day_of_week': 0}\n",
            "Predicted Traffic Volume: 567.45\n",
            "At hour 13, control signal: Green for 40 seconds\n"
          ]
        },
        {
          "output_type": "stream",
          "name": "stderr",
          "text": [
            "/usr/local/lib/python3.10/dist-packages/sklearn/base.py:493: UserWarning: X does not have valid feature names, but StandardScaler was fitted with feature names\n",
            "  warnings.warn(\n"
          ]
        },
        {
          "output_type": "stream",
          "name": "stdout",
          "text": [
            "\n",
            "Real-time Traffic Data: {'time': Timestamp('2024-10-07 13:23:08.400854'), 'traffic_volume': 706, 'accidents': 1, 'weather_condition': 0, 'special_event': 0, 'hour': 13, 'day_of_week': 0}\n",
            "Predicted Traffic Volume: 574.10\n",
            "At hour 13, control signal: Green for 40 seconds\n"
          ]
        },
        {
          "output_type": "stream",
          "name": "stderr",
          "text": [
            "/usr/local/lib/python3.10/dist-packages/sklearn/base.py:493: UserWarning: X does not have valid feature names, but StandardScaler was fitted with feature names\n",
            "  warnings.warn(\n"
          ]
        },
        {
          "output_type": "stream",
          "name": "stdout",
          "text": [
            "\n",
            "Real-time Traffic Data: {'time': Timestamp('2024-10-07 13:23:09.403127'), 'traffic_volume': 826, 'accidents': 0, 'weather_condition': 0, 'special_event': 0, 'hour': 13, 'day_of_week': 0}\n",
            "Predicted Traffic Volume: 567.45\n",
            "At hour 13, control signal: Green for 40 seconds\n"
          ]
        },
        {
          "output_type": "stream",
          "name": "stderr",
          "text": [
            "/usr/local/lib/python3.10/dist-packages/sklearn/base.py:493: UserWarning: X does not have valid feature names, but StandardScaler was fitted with feature names\n",
            "  warnings.warn(\n"
          ]
        },
        {
          "output_type": "stream",
          "name": "stdout",
          "text": [
            "\n",
            "Real-time Traffic Data: {'time': Timestamp('2024-10-07 13:23:10.407403'), 'traffic_volume': 701, 'accidents': 0, 'weather_condition': 0, 'special_event': 0, 'hour': 13, 'day_of_week': 0}\n",
            "Predicted Traffic Volume: 567.45\n",
            "At hour 13, control signal: Green for 40 seconds\n"
          ]
        },
        {
          "output_type": "stream",
          "name": "stderr",
          "text": [
            "/usr/local/lib/python3.10/dist-packages/sklearn/base.py:493: UserWarning: X does not have valid feature names, but StandardScaler was fitted with feature names\n",
            "  warnings.warn(\n"
          ]
        },
        {
          "output_type": "stream",
          "name": "stdout",
          "text": [
            "\n",
            "Real-time Traffic Data: {'time': Timestamp('2024-10-07 13:23:11.408939'), 'traffic_volume': 925, 'accidents': 0, 'weather_condition': 0, 'special_event': 0, 'hour': 13, 'day_of_week': 0}\n",
            "Predicted Traffic Volume: 567.45\n",
            "At hour 13, control signal: Green for 40 seconds\n"
          ]
        },
        {
          "output_type": "stream",
          "name": "stderr",
          "text": [
            "/usr/local/lib/python3.10/dist-packages/sklearn/base.py:493: UserWarning: X does not have valid feature names, but StandardScaler was fitted with feature names\n",
            "  warnings.warn(\n"
          ]
        },
        {
          "output_type": "stream",
          "name": "stdout",
          "text": [
            "\n",
            "Real-time Traffic Data: {'time': Timestamp('2024-10-07 13:23:12.411452'), 'traffic_volume': 519, 'accidents': 0, 'weather_condition': 0, 'special_event': 0, 'hour': 13, 'day_of_week': 0}\n",
            "Predicted Traffic Volume: 567.45\n",
            "At hour 13, control signal: Green for 40 seconds\n"
          ]
        },
        {
          "output_type": "stream",
          "name": "stderr",
          "text": [
            "/usr/local/lib/python3.10/dist-packages/sklearn/base.py:493: UserWarning: X does not have valid feature names, but StandardScaler was fitted with feature names\n",
            "  warnings.warn(\n"
          ]
        },
        {
          "output_type": "stream",
          "name": "stdout",
          "text": [
            "\n",
            "Real-time Traffic Data: {'time': Timestamp('2024-10-07 13:23:13.415449'), 'traffic_volume': 968, 'accidents': 0, 'weather_condition': 1, 'special_event': 0, 'hour': 13, 'day_of_week': 0}\n",
            "Predicted Traffic Volume: 599.01\n",
            "At hour 13, control signal: Green for 40 seconds\n"
          ]
        },
        {
          "output_type": "stream",
          "name": "stderr",
          "text": [
            "/usr/local/lib/python3.10/dist-packages/sklearn/base.py:493: UserWarning: X does not have valid feature names, but StandardScaler was fitted with feature names\n",
            "  warnings.warn(\n"
          ]
        },
        {
          "output_type": "stream",
          "name": "stdout",
          "text": [
            "\n",
            "Real-time Traffic Data: {'time': Timestamp('2024-10-07 13:23:14.419428'), 'traffic_volume': 647, 'accidents': 0, 'weather_condition': 1, 'special_event': 1, 'hour': 13, 'day_of_week': 0}\n",
            "Predicted Traffic Volume: 470.07\n",
            "At hour 13, control signal: Green for 40 seconds\n"
          ]
        },
        {
          "output_type": "stream",
          "name": "stderr",
          "text": [
            "/usr/local/lib/python3.10/dist-packages/sklearn/base.py:493: UserWarning: X does not have valid feature names, but StandardScaler was fitted with feature names\n",
            "  warnings.warn(\n"
          ]
        },
        {
          "output_type": "stream",
          "name": "stdout",
          "text": [
            "\n",
            "Real-time Traffic Data: {'time': Timestamp('2024-10-07 13:23:15.423711'), 'traffic_volume': 289, 'accidents': 0, 'weather_condition': 0, 'special_event': 0, 'hour': 13, 'day_of_week': 0}\n",
            "Predicted Traffic Volume: 567.45\n",
            "At hour 13, control signal: Green for 40 seconds\n"
          ]
        },
        {
          "output_type": "stream",
          "name": "stderr",
          "text": [
            "/usr/local/lib/python3.10/dist-packages/sklearn/base.py:493: UserWarning: X does not have valid feature names, but StandardScaler was fitted with feature names\n",
            "  warnings.warn(\n"
          ]
        },
        {
          "output_type": "stream",
          "name": "stdout",
          "text": [
            "\n",
            "Real-time Traffic Data: {'time': Timestamp('2024-10-07 13:23:16.426061'), 'traffic_volume': 378, 'accidents': 0, 'weather_condition': 0, 'special_event': 0, 'hour': 13, 'day_of_week': 0}\n",
            "Predicted Traffic Volume: 567.45\n",
            "At hour 13, control signal: Green for 40 seconds\n"
          ]
        },
        {
          "output_type": "stream",
          "name": "stderr",
          "text": [
            "/usr/local/lib/python3.10/dist-packages/sklearn/base.py:493: UserWarning: X does not have valid feature names, but StandardScaler was fitted with feature names\n",
            "  warnings.warn(\n"
          ]
        },
        {
          "output_type": "stream",
          "name": "stdout",
          "text": [
            "\n",
            "Real-time Traffic Data: {'time': Timestamp('2024-10-07 13:23:17.430155'), 'traffic_volume': 161, 'accidents': 0, 'weather_condition': 0, 'special_event': 0, 'hour': 13, 'day_of_week': 0}\n",
            "Predicted Traffic Volume: 567.45\n",
            "At hour 13, control signal: Green for 40 seconds\n"
          ]
        },
        {
          "output_type": "stream",
          "name": "stderr",
          "text": [
            "/usr/local/lib/python3.10/dist-packages/sklearn/base.py:493: UserWarning: X does not have valid feature names, but StandardScaler was fitted with feature names\n",
            "  warnings.warn(\n"
          ]
        },
        {
          "output_type": "stream",
          "name": "stdout",
          "text": [
            "\n",
            "Real-time Traffic Data: {'time': Timestamp('2024-10-07 13:23:18.434163'), 'traffic_volume': 118, 'accidents': 0, 'weather_condition': 0, 'special_event': 0, 'hour': 13, 'day_of_week': 0}\n",
            "Predicted Traffic Volume: 567.45\n",
            "At hour 13, control signal: Green for 40 seconds\n"
          ]
        },
        {
          "output_type": "stream",
          "name": "stderr",
          "text": [
            "/usr/local/lib/python3.10/dist-packages/sklearn/base.py:493: UserWarning: X does not have valid feature names, but StandardScaler was fitted with feature names\n",
            "  warnings.warn(\n"
          ]
        },
        {
          "output_type": "stream",
          "name": "stdout",
          "text": [
            "\n",
            "Real-time Traffic Data: {'time': Timestamp('2024-10-07 13:23:19.436405'), 'traffic_volume': 175, 'accidents': 0, 'weather_condition': 0, 'special_event': 0, 'hour': 13, 'day_of_week': 0}\n",
            "Predicted Traffic Volume: 567.45\n",
            "At hour 13, control signal: Green for 40 seconds\n"
          ]
        },
        {
          "output_type": "stream",
          "name": "stderr",
          "text": [
            "/usr/local/lib/python3.10/dist-packages/sklearn/base.py:493: UserWarning: X does not have valid feature names, but StandardScaler was fitted with feature names\n",
            "  warnings.warn(\n"
          ]
        },
        {
          "output_type": "stream",
          "name": "stdout",
          "text": [
            "\n",
            "Real-time Traffic Data: {'time': Timestamp('2024-10-07 13:23:20.438627'), 'traffic_volume': 663, 'accidents': 0, 'weather_condition': 1, 'special_event': 0, 'hour': 13, 'day_of_week': 0}\n",
            "Predicted Traffic Volume: 599.01\n",
            "At hour 13, control signal: Green for 40 seconds\n"
          ]
        },
        {
          "output_type": "stream",
          "name": "stderr",
          "text": [
            "/usr/local/lib/python3.10/dist-packages/sklearn/base.py:493: UserWarning: X does not have valid feature names, but StandardScaler was fitted with feature names\n",
            "  warnings.warn(\n"
          ]
        },
        {
          "output_type": "stream",
          "name": "stdout",
          "text": [
            "\n",
            "Real-time Traffic Data: {'time': Timestamp('2024-10-07 13:23:21.442620'), 'traffic_volume': 198, 'accidents': 0, 'weather_condition': 0, 'special_event': 0, 'hour': 13, 'day_of_week': 0}\n",
            "Predicted Traffic Volume: 567.45\n",
            "At hour 13, control signal: Green for 40 seconds\n"
          ]
        },
        {
          "output_type": "stream",
          "name": "stderr",
          "text": [
            "/usr/local/lib/python3.10/dist-packages/sklearn/base.py:493: UserWarning: X does not have valid feature names, but StandardScaler was fitted with feature names\n",
            "  warnings.warn(\n"
          ]
        },
        {
          "output_type": "stream",
          "name": "stdout",
          "text": [
            "\n",
            "Real-time Traffic Data: {'time': Timestamp('2024-10-07 13:23:22.444858'), 'traffic_volume': 664, 'accidents': 0, 'weather_condition': 0, 'special_event': 0, 'hour': 13, 'day_of_week': 0}\n",
            "Predicted Traffic Volume: 567.45\n",
            "At hour 13, control signal: Green for 40 seconds\n"
          ]
        },
        {
          "output_type": "stream",
          "name": "stderr",
          "text": [
            "/usr/local/lib/python3.10/dist-packages/sklearn/base.py:493: UserWarning: X does not have valid feature names, but StandardScaler was fitted with feature names\n",
            "  warnings.warn(\n"
          ]
        },
        {
          "output_type": "stream",
          "name": "stdout",
          "text": [
            "\n",
            "Real-time Traffic Data: {'time': Timestamp('2024-10-07 13:23:23.447957'), 'traffic_volume': 141, 'accidents': 0, 'weather_condition': 0, 'special_event': 0, 'hour': 13, 'day_of_week': 0}\n",
            "Predicted Traffic Volume: 567.45\n",
            "At hour 13, control signal: Green for 40 seconds\n"
          ]
        },
        {
          "output_type": "stream",
          "name": "stderr",
          "text": [
            "/usr/local/lib/python3.10/dist-packages/sklearn/base.py:493: UserWarning: X does not have valid feature names, but StandardScaler was fitted with feature names\n",
            "  warnings.warn(\n"
          ]
        },
        {
          "output_type": "stream",
          "name": "stdout",
          "text": [
            "\n",
            "Real-time Traffic Data: {'time': Timestamp('2024-10-07 13:23:24.450499'), 'traffic_volume': 262, 'accidents': 1, 'weather_condition': 1, 'special_event': 0, 'hour': 13, 'day_of_week': 0}\n",
            "Predicted Traffic Volume: 605.66\n",
            "At hour 13, control signal: Green for 40 seconds\n"
          ]
        },
        {
          "output_type": "stream",
          "name": "stderr",
          "text": [
            "/usr/local/lib/python3.10/dist-packages/sklearn/base.py:493: UserWarning: X does not have valid feature names, but StandardScaler was fitted with feature names\n",
            "  warnings.warn(\n"
          ]
        },
        {
          "output_type": "stream",
          "name": "stdout",
          "text": [
            "\n",
            "Real-time Traffic Data: {'time': Timestamp('2024-10-07 13:23:25.454491'), 'traffic_volume': 687, 'accidents': 0, 'weather_condition': 0, 'special_event': 0, 'hour': 13, 'day_of_week': 0}\n",
            "Predicted Traffic Volume: 567.45\n",
            "At hour 13, control signal: Green for 40 seconds\n"
          ]
        },
        {
          "output_type": "stream",
          "name": "stderr",
          "text": [
            "/usr/local/lib/python3.10/dist-packages/sklearn/base.py:493: UserWarning: X does not have valid feature names, but StandardScaler was fitted with feature names\n",
            "  warnings.warn(\n"
          ]
        },
        {
          "output_type": "stream",
          "name": "stdout",
          "text": [
            "\n",
            "Real-time Traffic Data: {'time': Timestamp('2024-10-07 13:23:26.455913'), 'traffic_volume': 329, 'accidents': 0, 'weather_condition': 1, 'special_event': 0, 'hour': 13, 'day_of_week': 0}\n",
            "Predicted Traffic Volume: 599.01\n",
            "At hour 13, control signal: Green for 40 seconds\n"
          ]
        },
        {
          "output_type": "stream",
          "name": "stderr",
          "text": [
            "/usr/local/lib/python3.10/dist-packages/sklearn/base.py:493: UserWarning: X does not have valid feature names, but StandardScaler was fitted with feature names\n",
            "  warnings.warn(\n"
          ]
        },
        {
          "output_type": "stream",
          "name": "stdout",
          "text": [
            "\n",
            "Real-time Traffic Data: {'time': Timestamp('2024-10-07 13:23:27.458257'), 'traffic_volume': 894, 'accidents': 0, 'weather_condition': 0, 'special_event': 0, 'hour': 13, 'day_of_week': 0}\n",
            "Predicted Traffic Volume: 567.45\n",
            "At hour 13, control signal: Green for 40 seconds\n"
          ]
        },
        {
          "output_type": "stream",
          "name": "stderr",
          "text": [
            "/usr/local/lib/python3.10/dist-packages/sklearn/base.py:493: UserWarning: X does not have valid feature names, but StandardScaler was fitted with feature names\n",
            "  warnings.warn(\n"
          ]
        },
        {
          "output_type": "stream",
          "name": "stdout",
          "text": [
            "\n",
            "Real-time Traffic Data: {'time': Timestamp('2024-10-07 13:23:28.462474'), 'traffic_volume': 438, 'accidents': 0, 'weather_condition': 0, 'special_event': 0, 'hour': 13, 'day_of_week': 0}\n",
            "Predicted Traffic Volume: 567.45\n",
            "At hour 13, control signal: Green for 40 seconds\n"
          ]
        },
        {
          "output_type": "stream",
          "name": "stderr",
          "text": [
            "/usr/local/lib/python3.10/dist-packages/sklearn/base.py:493: UserWarning: X does not have valid feature names, but StandardScaler was fitted with feature names\n",
            "  warnings.warn(\n"
          ]
        },
        {
          "output_type": "stream",
          "name": "stdout",
          "text": [
            "\n",
            "Real-time Traffic Data: {'time': Timestamp('2024-10-07 13:23:29.464686'), 'traffic_volume': 756, 'accidents': 0, 'weather_condition': 1, 'special_event': 0, 'hour': 13, 'day_of_week': 0}\n",
            "Predicted Traffic Volume: 599.01\n",
            "At hour 13, control signal: Green for 40 seconds\n"
          ]
        },
        {
          "output_type": "stream",
          "name": "stderr",
          "text": [
            "/usr/local/lib/python3.10/dist-packages/sklearn/base.py:493: UserWarning: X does not have valid feature names, but StandardScaler was fitted with feature names\n",
            "  warnings.warn(\n"
          ]
        },
        {
          "output_type": "stream",
          "name": "stdout",
          "text": [
            "\n",
            "Real-time Traffic Data: {'time': Timestamp('2024-10-07 13:23:30.468594'), 'traffic_volume': 169, 'accidents': 1, 'weather_condition': 1, 'special_event': 0, 'hour': 13, 'day_of_week': 0}\n",
            "Predicted Traffic Volume: 605.66\n",
            "At hour 13, control signal: Green for 40 seconds\n"
          ]
        },
        {
          "output_type": "stream",
          "name": "stderr",
          "text": [
            "/usr/local/lib/python3.10/dist-packages/sklearn/base.py:493: UserWarning: X does not have valid feature names, but StandardScaler was fitted with feature names\n",
            "  warnings.warn(\n"
          ]
        },
        {
          "output_type": "stream",
          "name": "stdout",
          "text": [
            "\n",
            "Real-time Traffic Data: {'time': Timestamp('2024-10-07 13:23:31.470952'), 'traffic_volume': 266, 'accidents': 0, 'weather_condition': 0, 'special_event': 0, 'hour': 13, 'day_of_week': 0}\n",
            "Predicted Traffic Volume: 567.45\n",
            "At hour 13, control signal: Green for 40 seconds\n"
          ]
        },
        {
          "output_type": "stream",
          "name": "stderr",
          "text": [
            "/usr/local/lib/python3.10/dist-packages/sklearn/base.py:493: UserWarning: X does not have valid feature names, but StandardScaler was fitted with feature names\n",
            "  warnings.warn(\n"
          ]
        },
        {
          "output_type": "stream",
          "name": "stdout",
          "text": [
            "\n",
            "Real-time Traffic Data: {'time': Timestamp('2024-10-07 13:23:32.473245'), 'traffic_volume': 550, 'accidents': 0, 'weather_condition': 1, 'special_event': 0, 'hour': 13, 'day_of_week': 0}\n",
            "Predicted Traffic Volume: 599.01\n",
            "At hour 13, control signal: Green for 40 seconds\n"
          ]
        },
        {
          "output_type": "stream",
          "name": "stderr",
          "text": [
            "/usr/local/lib/python3.10/dist-packages/sklearn/base.py:493: UserWarning: X does not have valid feature names, but StandardScaler was fitted with feature names\n",
            "  warnings.warn(\n"
          ]
        },
        {
          "output_type": "stream",
          "name": "stdout",
          "text": [
            "\n",
            "Real-time Traffic Data: {'time': Timestamp('2024-10-07 13:23:33.477246'), 'traffic_volume': 759, 'accidents': 0, 'weather_condition': 0, 'special_event': 0, 'hour': 13, 'day_of_week': 0}\n",
            "Predicted Traffic Volume: 567.45\n",
            "At hour 13, control signal: Green for 40 seconds\n"
          ]
        },
        {
          "output_type": "stream",
          "name": "stderr",
          "text": [
            "/usr/local/lib/python3.10/dist-packages/sklearn/base.py:493: UserWarning: X does not have valid feature names, but StandardScaler was fitted with feature names\n",
            "  warnings.warn(\n"
          ]
        },
        {
          "output_type": "stream",
          "name": "stdout",
          "text": [
            "\n",
            "Real-time Traffic Data: {'time': Timestamp('2024-10-07 13:23:34.478957'), 'traffic_volume': 100, 'accidents': 0, 'weather_condition': 0, 'special_event': 0, 'hour': 13, 'day_of_week': 0}\n",
            "Predicted Traffic Volume: 567.45\n",
            "At hour 13, control signal: Green for 40 seconds\n"
          ]
        },
        {
          "output_type": "stream",
          "name": "stderr",
          "text": [
            "/usr/local/lib/python3.10/dist-packages/sklearn/base.py:493: UserWarning: X does not have valid feature names, but StandardScaler was fitted with feature names\n",
            "  warnings.warn(\n"
          ]
        },
        {
          "output_type": "stream",
          "name": "stdout",
          "text": [
            "\n",
            "Real-time Traffic Data: {'time': Timestamp('2024-10-07 13:23:35.480941'), 'traffic_volume': 607, 'accidents': 0, 'weather_condition': 0, 'special_event': 0, 'hour': 13, 'day_of_week': 0}\n",
            "Predicted Traffic Volume: 567.45\n",
            "At hour 13, control signal: Green for 40 seconds\n"
          ]
        },
        {
          "output_type": "stream",
          "name": "stderr",
          "text": [
            "/usr/local/lib/python3.10/dist-packages/sklearn/base.py:493: UserWarning: X does not have valid feature names, but StandardScaler was fitted with feature names\n",
            "  warnings.warn(\n"
          ]
        },
        {
          "output_type": "stream",
          "name": "stdout",
          "text": [
            "\n",
            "Real-time Traffic Data: {'time': Timestamp('2024-10-07 13:23:36.482946'), 'traffic_volume': 233, 'accidents': 0, 'weather_condition': 1, 'special_event': 0, 'hour': 13, 'day_of_week': 0}\n",
            "Predicted Traffic Volume: 599.01\n",
            "At hour 13, control signal: Green for 40 seconds\n"
          ]
        },
        {
          "output_type": "stream",
          "name": "stderr",
          "text": [
            "/usr/local/lib/python3.10/dist-packages/sklearn/base.py:493: UserWarning: X does not have valid feature names, but StandardScaler was fitted with feature names\n",
            "  warnings.warn(\n"
          ]
        },
        {
          "output_type": "stream",
          "name": "stdout",
          "text": [
            "\n",
            "Real-time Traffic Data: {'time': Timestamp('2024-10-07 13:23:37.484948'), 'traffic_volume': 914, 'accidents': 0, 'weather_condition': 1, 'special_event': 0, 'hour': 13, 'day_of_week': 0}\n",
            "Predicted Traffic Volume: 599.01\n",
            "At hour 13, control signal: Green for 40 seconds\n"
          ]
        },
        {
          "output_type": "stream",
          "name": "stderr",
          "text": [
            "/usr/local/lib/python3.10/dist-packages/sklearn/base.py:493: UserWarning: X does not have valid feature names, but StandardScaler was fitted with feature names\n",
            "  warnings.warn(\n"
          ]
        },
        {
          "output_type": "stream",
          "name": "stdout",
          "text": [
            "\n",
            "Real-time Traffic Data: {'time': Timestamp('2024-10-07 13:23:38.486946'), 'traffic_volume': 328, 'accidents': 0, 'weather_condition': 0, 'special_event': 1, 'hour': 13, 'day_of_week': 0}\n",
            "Predicted Traffic Volume: 438.51\n",
            "At hour 13, control signal: Green for 40 seconds\n"
          ]
        },
        {
          "output_type": "stream",
          "name": "stderr",
          "text": [
            "/usr/local/lib/python3.10/dist-packages/sklearn/base.py:493: UserWarning: X does not have valid feature names, but StandardScaler was fitted with feature names\n",
            "  warnings.warn(\n"
          ]
        },
        {
          "output_type": "stream",
          "name": "stdout",
          "text": [
            "\n",
            "Real-time Traffic Data: {'time': Timestamp('2024-10-07 13:23:39.489200'), 'traffic_volume': 146, 'accidents': 0, 'weather_condition': 0, 'special_event': 0, 'hour': 13, 'day_of_week': 0}\n",
            "Predicted Traffic Volume: 567.45\n",
            "At hour 13, control signal: Green for 40 seconds\n"
          ]
        },
        {
          "output_type": "stream",
          "name": "stderr",
          "text": [
            "/usr/local/lib/python3.10/dist-packages/sklearn/base.py:493: UserWarning: X does not have valid feature names, but StandardScaler was fitted with feature names\n",
            "  warnings.warn(\n"
          ]
        },
        {
          "output_type": "stream",
          "name": "stdout",
          "text": [
            "\n",
            "Real-time Traffic Data: {'time': Timestamp('2024-10-07 13:23:40.491502'), 'traffic_volume': 472, 'accidents': 0, 'weather_condition': 0, 'special_event': 0, 'hour': 13, 'day_of_week': 0}\n",
            "Predicted Traffic Volume: 567.45\n",
            "At hour 13, control signal: Green for 40 seconds\n"
          ]
        },
        {
          "output_type": "stream",
          "name": "stderr",
          "text": [
            "/usr/local/lib/python3.10/dist-packages/sklearn/base.py:493: UserWarning: X does not have valid feature names, but StandardScaler was fitted with feature names\n",
            "  warnings.warn(\n"
          ]
        },
        {
          "output_type": "stream",
          "name": "stdout",
          "text": [
            "\n",
            "Real-time Traffic Data: {'time': Timestamp('2024-10-07 13:23:41.495750'), 'traffic_volume': 111, 'accidents': 0, 'weather_condition': 0, 'special_event': 0, 'hour': 13, 'day_of_week': 0}\n",
            "Predicted Traffic Volume: 567.45\n",
            "At hour 13, control signal: Green for 40 seconds\n"
          ]
        },
        {
          "output_type": "stream",
          "name": "stderr",
          "text": [
            "/usr/local/lib/python3.10/dist-packages/sklearn/base.py:493: UserWarning: X does not have valid feature names, but StandardScaler was fitted with feature names\n",
            "  warnings.warn(\n"
          ]
        },
        {
          "output_type": "stream",
          "name": "stdout",
          "text": [
            "\n",
            "Real-time Traffic Data: {'time': Timestamp('2024-10-07 13:23:42.498062'), 'traffic_volume': 507, 'accidents': 1, 'weather_condition': 0, 'special_event': 0, 'hour': 13, 'day_of_week': 0}\n",
            "Predicted Traffic Volume: 574.10\n",
            "At hour 13, control signal: Green for 40 seconds\n"
          ]
        },
        {
          "output_type": "stream",
          "name": "stderr",
          "text": [
            "/usr/local/lib/python3.10/dist-packages/sklearn/base.py:493: UserWarning: X does not have valid feature names, but StandardScaler was fitted with feature names\n",
            "  warnings.warn(\n"
          ]
        },
        {
          "output_type": "stream",
          "name": "stdout",
          "text": [
            "\n",
            "Real-time Traffic Data: {'time': Timestamp('2024-10-07 13:23:43.500339'), 'traffic_volume': 189, 'accidents': 0, 'weather_condition': 0, 'special_event': 0, 'hour': 13, 'day_of_week': 0}\n",
            "Predicted Traffic Volume: 567.45\n",
            "At hour 13, control signal: Green for 40 seconds\n"
          ]
        },
        {
          "output_type": "stream",
          "name": "stderr",
          "text": [
            "/usr/local/lib/python3.10/dist-packages/sklearn/base.py:493: UserWarning: X does not have valid feature names, but StandardScaler was fitted with feature names\n",
            "  warnings.warn(\n"
          ]
        },
        {
          "output_type": "stream",
          "name": "stdout",
          "text": [
            "\n",
            "Real-time Traffic Data: {'time': Timestamp('2024-10-07 13:23:44.504271'), 'traffic_volume': 968, 'accidents': 0, 'weather_condition': 0, 'special_event': 0, 'hour': 13, 'day_of_week': 0}\n",
            "Predicted Traffic Volume: 567.45\n",
            "At hour 13, control signal: Green for 40 seconds\n"
          ]
        },
        {
          "output_type": "stream",
          "name": "stderr",
          "text": [
            "/usr/local/lib/python3.10/dist-packages/sklearn/base.py:493: UserWarning: X does not have valid feature names, but StandardScaler was fitted with feature names\n",
            "  warnings.warn(\n"
          ]
        },
        {
          "output_type": "stream",
          "name": "stdout",
          "text": [
            "\n",
            "Real-time Traffic Data: {'time': Timestamp('2024-10-07 13:23:45.507058'), 'traffic_volume': 244, 'accidents': 1, 'weather_condition': 1, 'special_event': 0, 'hour': 13, 'day_of_week': 0}\n",
            "Predicted Traffic Volume: 605.66\n",
            "At hour 13, control signal: Green for 40 seconds\n"
          ]
        },
        {
          "output_type": "stream",
          "name": "stderr",
          "text": [
            "/usr/local/lib/python3.10/dist-packages/sklearn/base.py:493: UserWarning: X does not have valid feature names, but StandardScaler was fitted with feature names\n",
            "  warnings.warn(\n"
          ]
        },
        {
          "output_type": "stream",
          "name": "stdout",
          "text": [
            "\n",
            "Real-time Traffic Data: {'time': Timestamp('2024-10-07 13:23:46.509332'), 'traffic_volume': 851, 'accidents': 0, 'weather_condition': 0, 'special_event': 0, 'hour': 13, 'day_of_week': 0}\n",
            "Predicted Traffic Volume: 567.45\n",
            "At hour 13, control signal: Green for 40 seconds\n"
          ]
        },
        {
          "output_type": "stream",
          "name": "stderr",
          "text": [
            "/usr/local/lib/python3.10/dist-packages/sklearn/base.py:493: UserWarning: X does not have valid feature names, but StandardScaler was fitted with feature names\n",
            "  warnings.warn(\n"
          ]
        },
        {
          "output_type": "stream",
          "name": "stdout",
          "text": [
            "\n",
            "Real-time Traffic Data: {'time': Timestamp('2024-10-07 13:23:47.510957'), 'traffic_volume': 693, 'accidents': 0, 'weather_condition': 1, 'special_event': 0, 'hour': 13, 'day_of_week': 0}\n",
            "Predicted Traffic Volume: 599.01\n",
            "At hour 13, control signal: Green for 40 seconds\n"
          ]
        },
        {
          "output_type": "stream",
          "name": "stderr",
          "text": [
            "/usr/local/lib/python3.10/dist-packages/sklearn/base.py:493: UserWarning: X does not have valid feature names, but StandardScaler was fitted with feature names\n",
            "  warnings.warn(\n"
          ]
        },
        {
          "output_type": "stream",
          "name": "stdout",
          "text": [
            "\n",
            "Real-time Traffic Data: {'time': Timestamp('2024-10-07 13:23:48.512963'), 'traffic_volume': 109, 'accidents': 0, 'weather_condition': 0, 'special_event': 0, 'hour': 13, 'day_of_week': 0}\n",
            "Predicted Traffic Volume: 567.45\n",
            "At hour 13, control signal: Green for 40 seconds\n"
          ]
        },
        {
          "output_type": "stream",
          "name": "stderr",
          "text": [
            "/usr/local/lib/python3.10/dist-packages/sklearn/base.py:493: UserWarning: X does not have valid feature names, but StandardScaler was fitted with feature names\n",
            "  warnings.warn(\n"
          ]
        },
        {
          "output_type": "stream",
          "name": "stdout",
          "text": [
            "\n",
            "Real-time Traffic Data: {'time': Timestamp('2024-10-07 13:23:49.515524'), 'traffic_volume': 218, 'accidents': 1, 'weather_condition': 1, 'special_event': 0, 'hour': 13, 'day_of_week': 0}\n",
            "Predicted Traffic Volume: 605.66\n",
            "At hour 13, control signal: Green for 40 seconds\n"
          ]
        },
        {
          "output_type": "stream",
          "name": "stderr",
          "text": [
            "/usr/local/lib/python3.10/dist-packages/sklearn/base.py:493: UserWarning: X does not have valid feature names, but StandardScaler was fitted with feature names\n",
            "  warnings.warn(\n"
          ]
        },
        {
          "output_type": "stream",
          "name": "stdout",
          "text": [
            "\n",
            "Real-time Traffic Data: {'time': Timestamp('2024-10-07 13:23:50.517763'), 'traffic_volume': 338, 'accidents': 0, 'weather_condition': 0, 'special_event': 0, 'hour': 13, 'day_of_week': 0}\n",
            "Predicted Traffic Volume: 567.45\n",
            "At hour 13, control signal: Green for 40 seconds\n"
          ]
        },
        {
          "output_type": "stream",
          "name": "stderr",
          "text": [
            "/usr/local/lib/python3.10/dist-packages/sklearn/base.py:493: UserWarning: X does not have valid feature names, but StandardScaler was fitted with feature names\n",
            "  warnings.warn(\n"
          ]
        },
        {
          "output_type": "stream",
          "name": "stdout",
          "text": [
            "\n",
            "Real-time Traffic Data: {'time': Timestamp('2024-10-07 13:23:51.520051'), 'traffic_volume': 953, 'accidents': 0, 'weather_condition': 0, 'special_event': 0, 'hour': 13, 'day_of_week': 0}\n",
            "Predicted Traffic Volume: 567.45\n",
            "At hour 13, control signal: Green for 40 seconds\n"
          ]
        },
        {
          "output_type": "stream",
          "name": "stderr",
          "text": [
            "/usr/local/lib/python3.10/dist-packages/sklearn/base.py:493: UserWarning: X does not have valid feature names, but StandardScaler was fitted with feature names\n",
            "  warnings.warn(\n"
          ]
        },
        {
          "output_type": "stream",
          "name": "stdout",
          "text": [
            "\n",
            "Real-time Traffic Data: {'time': Timestamp('2024-10-07 13:23:52.522305'), 'traffic_volume': 204, 'accidents': 0, 'weather_condition': 0, 'special_event': 0, 'hour': 13, 'day_of_week': 0}\n",
            "Predicted Traffic Volume: 567.45\n",
            "At hour 13, control signal: Green for 40 seconds\n"
          ]
        },
        {
          "output_type": "stream",
          "name": "stderr",
          "text": [
            "/usr/local/lib/python3.10/dist-packages/sklearn/base.py:493: UserWarning: X does not have valid feature names, but StandardScaler was fitted with feature names\n",
            "  warnings.warn(\n"
          ]
        },
        {
          "output_type": "stream",
          "name": "stdout",
          "text": [
            "\n",
            "Real-time Traffic Data: {'time': Timestamp('2024-10-07 13:23:53.524537'), 'traffic_volume': 617, 'accidents': 0, 'weather_condition': 0, 'special_event': 0, 'hour': 13, 'day_of_week': 0}\n",
            "Predicted Traffic Volume: 567.45\n",
            "At hour 13, control signal: Green for 40 seconds\n"
          ]
        },
        {
          "output_type": "stream",
          "name": "stderr",
          "text": [
            "/usr/local/lib/python3.10/dist-packages/sklearn/base.py:493: UserWarning: X does not have valid feature names, but StandardScaler was fitted with feature names\n",
            "  warnings.warn(\n"
          ]
        },
        {
          "output_type": "stream",
          "name": "stdout",
          "text": [
            "\n",
            "Real-time Traffic Data: {'time': Timestamp('2024-10-07 13:23:54.526837'), 'traffic_volume': 870, 'accidents': 0, 'weather_condition': 0, 'special_event': 0, 'hour': 13, 'day_of_week': 0}\n",
            "Predicted Traffic Volume: 567.45\n",
            "At hour 13, control signal: Green for 40 seconds\n"
          ]
        },
        {
          "output_type": "stream",
          "name": "stderr",
          "text": [
            "/usr/local/lib/python3.10/dist-packages/sklearn/base.py:493: UserWarning: X does not have valid feature names, but StandardScaler was fitted with feature names\n",
            "  warnings.warn(\n"
          ]
        },
        {
          "output_type": "stream",
          "name": "stdout",
          "text": [
            "\n",
            "Real-time Traffic Data: {'time': Timestamp('2024-10-07 13:23:55.529100'), 'traffic_volume': 557, 'accidents': 0, 'weather_condition': 0, 'special_event': 0, 'hour': 13, 'day_of_week': 0}\n",
            "Predicted Traffic Volume: 567.45\n",
            "At hour 13, control signal: Green for 40 seconds\n"
          ]
        },
        {
          "output_type": "stream",
          "name": "stderr",
          "text": [
            "/usr/local/lib/python3.10/dist-packages/sklearn/base.py:493: UserWarning: X does not have valid feature names, but StandardScaler was fitted with feature names\n",
            "  warnings.warn(\n"
          ]
        },
        {
          "output_type": "stream",
          "name": "stdout",
          "text": [
            "\n",
            "Real-time Traffic Data: {'time': Timestamp('2024-10-07 13:23:56.532961'), 'traffic_volume': 100, 'accidents': 0, 'weather_condition': 0, 'special_event': 0, 'hour': 13, 'day_of_week': 0}\n",
            "Predicted Traffic Volume: 567.45\n",
            "At hour 13, control signal: Green for 40 seconds\n"
          ]
        },
        {
          "output_type": "stream",
          "name": "stderr",
          "text": [
            "/usr/local/lib/python3.10/dist-packages/sklearn/base.py:493: UserWarning: X does not have valid feature names, but StandardScaler was fitted with feature names\n",
            "  warnings.warn(\n"
          ]
        },
        {
          "output_type": "stream",
          "name": "stdout",
          "text": [
            "\n",
            "Real-time Traffic Data: {'time': Timestamp('2024-10-07 13:23:57.535600'), 'traffic_volume': 980, 'accidents': 1, 'weather_condition': 0, 'special_event': 0, 'hour': 13, 'day_of_week': 0}\n",
            "Predicted Traffic Volume: 574.10\n",
            "At hour 13, control signal: Green for 40 seconds\n"
          ]
        },
        {
          "output_type": "stream",
          "name": "stderr",
          "text": [
            "/usr/local/lib/python3.10/dist-packages/sklearn/base.py:493: UserWarning: X does not have valid feature names, but StandardScaler was fitted with feature names\n",
            "  warnings.warn(\n"
          ]
        },
        {
          "output_type": "stream",
          "name": "stdout",
          "text": [
            "\n",
            "Real-time Traffic Data: {'time': Timestamp('2024-10-07 13:23:58.537936'), 'traffic_volume': 650, 'accidents': 0, 'weather_condition': 0, 'special_event': 0, 'hour': 13, 'day_of_week': 0}\n",
            "Predicted Traffic Volume: 567.45\n",
            "At hour 13, control signal: Green for 40 seconds\n"
          ]
        },
        {
          "output_type": "stream",
          "name": "stderr",
          "text": [
            "/usr/local/lib/python3.10/dist-packages/sklearn/base.py:493: UserWarning: X does not have valid feature names, but StandardScaler was fitted with feature names\n",
            "  warnings.warn(\n"
          ]
        },
        {
          "output_type": "stream",
          "name": "stdout",
          "text": [
            "\n",
            "Real-time Traffic Data: {'time': Timestamp('2024-10-07 13:23:59.539918'), 'traffic_volume': 990, 'accidents': 0, 'weather_condition': 0, 'special_event': 0, 'hour': 13, 'day_of_week': 0}\n",
            "Predicted Traffic Volume: 567.45\n",
            "At hour 13, control signal: Green for 40 seconds\n"
          ]
        },
        {
          "output_type": "stream",
          "name": "stderr",
          "text": [
            "/usr/local/lib/python3.10/dist-packages/sklearn/base.py:493: UserWarning: X does not have valid feature names, but StandardScaler was fitted with feature names\n",
            "  warnings.warn(\n"
          ]
        },
        {
          "output_type": "stream",
          "name": "stdout",
          "text": [
            "\n",
            "Real-time Traffic Data: {'time': Timestamp('2024-10-07 13:24:00.543909'), 'traffic_volume': 833, 'accidents': 0, 'weather_condition': 1, 'special_event': 1, 'hour': 13, 'day_of_week': 0}\n",
            "Predicted Traffic Volume: 470.07\n",
            "At hour 13, control signal: Green for 40 seconds\n"
          ]
        },
        {
          "output_type": "stream",
          "name": "stderr",
          "text": [
            "/usr/local/lib/python3.10/dist-packages/sklearn/base.py:493: UserWarning: X does not have valid feature names, but StandardScaler was fitted with feature names\n",
            "  warnings.warn(\n"
          ]
        },
        {
          "output_type": "stream",
          "name": "stdout",
          "text": [
            "\n",
            "Real-time Traffic Data: {'time': Timestamp('2024-10-07 13:24:01.546182'), 'traffic_volume': 306, 'accidents': 0, 'weather_condition': 0, 'special_event': 0, 'hour': 13, 'day_of_week': 0}\n",
            "Predicted Traffic Volume: 567.45\n",
            "At hour 13, control signal: Green for 40 seconds\n"
          ]
        },
        {
          "output_type": "stream",
          "name": "stderr",
          "text": [
            "/usr/local/lib/python3.10/dist-packages/sklearn/base.py:493: UserWarning: X does not have valid feature names, but StandardScaler was fitted with feature names\n",
            "  warnings.warn(\n"
          ]
        },
        {
          "output_type": "stream",
          "name": "stdout",
          "text": [
            "\n",
            "Real-time Traffic Data: {'time': Timestamp('2024-10-07 13:24:02.548377'), 'traffic_volume': 202, 'accidents': 0, 'weather_condition': 0, 'special_event': 0, 'hour': 13, 'day_of_week': 0}\n",
            "Predicted Traffic Volume: 567.45\n",
            "At hour 13, control signal: Green for 40 seconds\n"
          ]
        },
        {
          "output_type": "stream",
          "name": "stderr",
          "text": [
            "/usr/local/lib/python3.10/dist-packages/sklearn/base.py:493: UserWarning: X does not have valid feature names, but StandardScaler was fitted with feature names\n",
            "  warnings.warn(\n"
          ]
        },
        {
          "output_type": "stream",
          "name": "stdout",
          "text": [
            "\n",
            "Real-time Traffic Data: {'time': Timestamp('2024-10-07 13:24:03.552381'), 'traffic_volume': 197, 'accidents': 0, 'weather_condition': 0, 'special_event': 0, 'hour': 13, 'day_of_week': 0}\n",
            "Predicted Traffic Volume: 567.45\n",
            "At hour 13, control signal: Green for 40 seconds\n"
          ]
        },
        {
          "output_type": "stream",
          "name": "stderr",
          "text": [
            "/usr/local/lib/python3.10/dist-packages/sklearn/base.py:493: UserWarning: X does not have valid feature names, but StandardScaler was fitted with feature names\n",
            "  warnings.warn(\n"
          ]
        },
        {
          "output_type": "stream",
          "name": "stdout",
          "text": [
            "\n",
            "Real-time Traffic Data: {'time': Timestamp('2024-10-07 13:24:04.554654'), 'traffic_volume': 407, 'accidents': 0, 'weather_condition': 0, 'special_event': 0, 'hour': 13, 'day_of_week': 0}\n",
            "Predicted Traffic Volume: 567.45\n",
            "At hour 13, control signal: Green for 40 seconds\n"
          ]
        },
        {
          "output_type": "stream",
          "name": "stderr",
          "text": [
            "/usr/local/lib/python3.10/dist-packages/sklearn/base.py:493: UserWarning: X does not have valid feature names, but StandardScaler was fitted with feature names\n",
            "  warnings.warn(\n"
          ]
        },
        {
          "output_type": "stream",
          "name": "stdout",
          "text": [
            "\n",
            "Real-time Traffic Data: {'time': Timestamp('2024-10-07 13:24:05.558976'), 'traffic_volume': 641, 'accidents': 0, 'weather_condition': 0, 'special_event': 0, 'hour': 13, 'day_of_week': 0}\n",
            "Predicted Traffic Volume: 567.45\n",
            "At hour 13, control signal: Green for 40 seconds\n"
          ]
        },
        {
          "output_type": "stream",
          "name": "stderr",
          "text": [
            "/usr/local/lib/python3.10/dist-packages/sklearn/base.py:493: UserWarning: X does not have valid feature names, but StandardScaler was fitted with feature names\n",
            "  warnings.warn(\n"
          ]
        },
        {
          "output_type": "stream",
          "name": "stdout",
          "text": [
            "\n",
            "Real-time Traffic Data: {'time': Timestamp('2024-10-07 13:24:06.562912'), 'traffic_volume': 999, 'accidents': 0, 'weather_condition': 1, 'special_event': 0, 'hour': 13, 'day_of_week': 0}\n",
            "Predicted Traffic Volume: 599.01\n",
            "At hour 13, control signal: Green for 40 seconds\n"
          ]
        },
        {
          "output_type": "stream",
          "name": "stderr",
          "text": [
            "/usr/local/lib/python3.10/dist-packages/sklearn/base.py:493: UserWarning: X does not have valid feature names, but StandardScaler was fitted with feature names\n",
            "  warnings.warn(\n"
          ]
        },
        {
          "output_type": "stream",
          "name": "stdout",
          "text": [
            "\n",
            "Real-time Traffic Data: {'time': Timestamp('2024-10-07 13:24:07.565162'), 'traffic_volume': 951, 'accidents': 0, 'weather_condition': 1, 'special_event': 0, 'hour': 13, 'day_of_week': 0}\n",
            "Predicted Traffic Volume: 599.01\n",
            "At hour 13, control signal: Green for 40 seconds\n"
          ]
        },
        {
          "output_type": "stream",
          "name": "stderr",
          "text": [
            "/usr/local/lib/python3.10/dist-packages/sklearn/base.py:493: UserWarning: X does not have valid feature names, but StandardScaler was fitted with feature names\n",
            "  warnings.warn(\n"
          ]
        },
        {
          "output_type": "stream",
          "name": "stdout",
          "text": [
            "\n",
            "Real-time Traffic Data: {'time': Timestamp('2024-10-07 13:24:08.567412'), 'traffic_volume': 304, 'accidents': 0, 'weather_condition': 1, 'special_event': 0, 'hour': 13, 'day_of_week': 0}\n",
            "Predicted Traffic Volume: 599.01\n",
            "At hour 13, control signal: Green for 40 seconds\n"
          ]
        },
        {
          "output_type": "stream",
          "name": "stderr",
          "text": [
            "/usr/local/lib/python3.10/dist-packages/sklearn/base.py:493: UserWarning: X does not have valid feature names, but StandardScaler was fitted with feature names\n",
            "  warnings.warn(\n"
          ]
        },
        {
          "output_type": "stream",
          "name": "stdout",
          "text": [
            "\n",
            "Real-time Traffic Data: {'time': Timestamp('2024-10-07 13:24:09.570945'), 'traffic_volume': 210, 'accidents': 0, 'weather_condition': 0, 'special_event': 0, 'hour': 13, 'day_of_week': 0}\n",
            "Predicted Traffic Volume: 567.45\n",
            "At hour 13, control signal: Green for 40 seconds\n"
          ]
        },
        {
          "output_type": "stream",
          "name": "stderr",
          "text": [
            "/usr/local/lib/python3.10/dist-packages/sklearn/base.py:493: UserWarning: X does not have valid feature names, but StandardScaler was fitted with feature names\n",
            "  warnings.warn(\n"
          ]
        },
        {
          "output_type": "stream",
          "name": "stdout",
          "text": [
            "\n",
            "Real-time Traffic Data: {'time': Timestamp('2024-10-07 13:24:10.572946'), 'traffic_volume': 473, 'accidents': 0, 'weather_condition': 0, 'special_event': 0, 'hour': 13, 'day_of_week': 0}\n",
            "Predicted Traffic Volume: 567.45\n",
            "At hour 13, control signal: Green for 40 seconds\n"
          ]
        },
        {
          "output_type": "stream",
          "name": "stderr",
          "text": [
            "/usr/local/lib/python3.10/dist-packages/sklearn/base.py:493: UserWarning: X does not have valid feature names, but StandardScaler was fitted with feature names\n",
            "  warnings.warn(\n"
          ]
        },
        {
          "output_type": "stream",
          "name": "stdout",
          "text": [
            "\n",
            "Real-time Traffic Data: {'time': Timestamp('2024-10-07 13:24:11.575449'), 'traffic_volume': 380, 'accidents': 0, 'weather_condition': 0, 'special_event': 0, 'hour': 13, 'day_of_week': 0}\n",
            "Predicted Traffic Volume: 567.45\n",
            "At hour 13, control signal: Green for 40 seconds\n"
          ]
        },
        {
          "output_type": "stream",
          "name": "stderr",
          "text": [
            "/usr/local/lib/python3.10/dist-packages/sklearn/base.py:493: UserWarning: X does not have valid feature names, but StandardScaler was fitted with feature names\n",
            "  warnings.warn(\n"
          ]
        },
        {
          "output_type": "stream",
          "name": "stdout",
          "text": [
            "\n",
            "Real-time Traffic Data: {'time': Timestamp('2024-10-07 13:24:12.579406'), 'traffic_volume': 160, 'accidents': 0, 'weather_condition': 0, 'special_event': 0, 'hour': 13, 'day_of_week': 0}\n",
            "Predicted Traffic Volume: 567.45\n",
            "At hour 13, control signal: Green for 40 seconds\n"
          ]
        },
        {
          "output_type": "stream",
          "name": "stderr",
          "text": [
            "/usr/local/lib/python3.10/dist-packages/sklearn/base.py:493: UserWarning: X does not have valid feature names, but StandardScaler was fitted with feature names\n",
            "  warnings.warn(\n"
          ]
        },
        {
          "output_type": "stream",
          "name": "stdout",
          "text": [
            "\n",
            "Real-time Traffic Data: {'time': Timestamp('2024-10-07 13:24:13.581633'), 'traffic_volume': 703, 'accidents': 0, 'weather_condition': 0, 'special_event': 0, 'hour': 13, 'day_of_week': 0}\n",
            "Predicted Traffic Volume: 567.45\n",
            "At hour 13, control signal: Green for 40 seconds\n"
          ]
        },
        {
          "output_type": "stream",
          "name": "stderr",
          "text": [
            "/usr/local/lib/python3.10/dist-packages/sklearn/base.py:493: UserWarning: X does not have valid feature names, but StandardScaler was fitted with feature names\n",
            "  warnings.warn(\n"
          ]
        },
        {
          "output_type": "stream",
          "name": "stdout",
          "text": [
            "\n",
            "Real-time Traffic Data: {'time': Timestamp('2024-10-07 13:24:14.585552'), 'traffic_volume': 744, 'accidents': 0, 'weather_condition': 0, 'special_event': 0, 'hour': 13, 'day_of_week': 0}\n",
            "Predicted Traffic Volume: 567.45\n",
            "At hour 13, control signal: Green for 40 seconds\n"
          ]
        },
        {
          "output_type": "stream",
          "name": "stderr",
          "text": [
            "/usr/local/lib/python3.10/dist-packages/sklearn/base.py:493: UserWarning: X does not have valid feature names, but StandardScaler was fitted with feature names\n",
            "  warnings.warn(\n"
          ]
        },
        {
          "output_type": "stream",
          "name": "stdout",
          "text": [
            "\n",
            "Real-time Traffic Data: {'time': Timestamp('2024-10-07 13:24:15.589523'), 'traffic_volume': 177, 'accidents': 0, 'weather_condition': 0, 'special_event': 0, 'hour': 13, 'day_of_week': 0}\n",
            "Predicted Traffic Volume: 567.45\n",
            "At hour 13, control signal: Green for 40 seconds\n"
          ]
        },
        {
          "output_type": "stream",
          "name": "stderr",
          "text": [
            "/usr/local/lib/python3.10/dist-packages/sklearn/base.py:493: UserWarning: X does not have valid feature names, but StandardScaler was fitted with feature names\n",
            "  warnings.warn(\n"
          ]
        },
        {
          "output_type": "stream",
          "name": "stdout",
          "text": [
            "\n",
            "Real-time Traffic Data: {'time': Timestamp('2024-10-07 13:24:16.593510'), 'traffic_volume': 146, 'accidents': 0, 'weather_condition': 0, 'special_event': 0, 'hour': 13, 'day_of_week': 0}\n",
            "Predicted Traffic Volume: 567.45\n",
            "At hour 13, control signal: Green for 40 seconds\n"
          ]
        },
        {
          "output_type": "stream",
          "name": "stderr",
          "text": [
            "/usr/local/lib/python3.10/dist-packages/sklearn/base.py:493: UserWarning: X does not have valid feature names, but StandardScaler was fitted with feature names\n",
            "  warnings.warn(\n"
          ]
        },
        {
          "output_type": "stream",
          "name": "stdout",
          "text": [
            "\n",
            "Real-time Traffic Data: {'time': Timestamp('2024-10-07 13:24:17.595825'), 'traffic_volume': 930, 'accidents': 0, 'weather_condition': 0, 'special_event': 0, 'hour': 13, 'day_of_week': 0}\n",
            "Predicted Traffic Volume: 567.45\n",
            "At hour 13, control signal: Green for 40 seconds\n"
          ]
        },
        {
          "output_type": "stream",
          "name": "stderr",
          "text": [
            "/usr/local/lib/python3.10/dist-packages/sklearn/base.py:493: UserWarning: X does not have valid feature names, but StandardScaler was fitted with feature names\n",
            "  warnings.warn(\n"
          ]
        },
        {
          "output_type": "stream",
          "name": "stdout",
          "text": [
            "\n",
            "Real-time Traffic Data: {'time': Timestamp('2024-10-07 13:24:18.598106'), 'traffic_volume': 107, 'accidents': 0, 'weather_condition': 0, 'special_event': 0, 'hour': 13, 'day_of_week': 0}\n",
            "Predicted Traffic Volume: 567.45\n",
            "At hour 13, control signal: Green for 40 seconds\n"
          ]
        },
        {
          "output_type": "stream",
          "name": "stderr",
          "text": [
            "/usr/local/lib/python3.10/dist-packages/sklearn/base.py:493: UserWarning: X does not have valid feature names, but StandardScaler was fitted with feature names\n",
            "  warnings.warn(\n"
          ]
        },
        {
          "output_type": "stream",
          "name": "stdout",
          "text": [
            "\n",
            "Real-time Traffic Data: {'time': Timestamp('2024-10-07 13:24:19.602328'), 'traffic_volume': 738, 'accidents': 0, 'weather_condition': 0, 'special_event': 0, 'hour': 13, 'day_of_week': 0}\n",
            "Predicted Traffic Volume: 567.45\n",
            "At hour 13, control signal: Green for 40 seconds\n"
          ]
        },
        {
          "output_type": "stream",
          "name": "stderr",
          "text": [
            "/usr/local/lib/python3.10/dist-packages/sklearn/base.py:493: UserWarning: X does not have valid feature names, but StandardScaler was fitted with feature names\n",
            "  warnings.warn(\n"
          ]
        },
        {
          "output_type": "stream",
          "name": "stdout",
          "text": [
            "\n",
            "Real-time Traffic Data: {'time': Timestamp('2024-10-07 13:24:20.604599'), 'traffic_volume': 177, 'accidents': 1, 'weather_condition': 0, 'special_event': 0, 'hour': 13, 'day_of_week': 0}\n",
            "Predicted Traffic Volume: 574.10\n",
            "At hour 13, control signal: Green for 40 seconds\n"
          ]
        },
        {
          "output_type": "stream",
          "name": "stderr",
          "text": [
            "/usr/local/lib/python3.10/dist-packages/sklearn/base.py:493: UserWarning: X does not have valid feature names, but StandardScaler was fitted with feature names\n",
            "  warnings.warn(\n"
          ]
        },
        {
          "output_type": "stream",
          "name": "stdout",
          "text": [
            "\n",
            "Real-time Traffic Data: {'time': Timestamp('2024-10-07 13:24:21.607944'), 'traffic_volume': 411, 'accidents': 0, 'weather_condition': 0, 'special_event': 0, 'hour': 13, 'day_of_week': 0}\n",
            "Predicted Traffic Volume: 567.45\n",
            "At hour 13, control signal: Green for 40 seconds\n"
          ]
        },
        {
          "output_type": "stream",
          "name": "stderr",
          "text": [
            "/usr/local/lib/python3.10/dist-packages/sklearn/base.py:493: UserWarning: X does not have valid feature names, but StandardScaler was fitted with feature names\n",
            "  warnings.warn(\n"
          ]
        },
        {
          "output_type": "stream",
          "name": "stdout",
          "text": [
            "\n",
            "Real-time Traffic Data: {'time': Timestamp('2024-10-07 13:24:22.609965'), 'traffic_volume': 462, 'accidents': 0, 'weather_condition': 0, 'special_event': 0, 'hour': 13, 'day_of_week': 0}\n",
            "Predicted Traffic Volume: 567.45\n",
            "At hour 13, control signal: Green for 40 seconds\n"
          ]
        },
        {
          "output_type": "stream",
          "name": "stderr",
          "text": [
            "/usr/local/lib/python3.10/dist-packages/sklearn/base.py:493: UserWarning: X does not have valid feature names, but StandardScaler was fitted with feature names\n",
            "  warnings.warn(\n"
          ]
        },
        {
          "output_type": "stream",
          "name": "stdout",
          "text": [
            "\n",
            "Real-time Traffic Data: {'time': Timestamp('2024-10-07 13:24:23.612538'), 'traffic_volume': 838, 'accidents': 0, 'weather_condition': 0, 'special_event': 0, 'hour': 13, 'day_of_week': 0}\n",
            "Predicted Traffic Volume: 567.45\n",
            "At hour 13, control signal: Green for 40 seconds\n"
          ]
        },
        {
          "output_type": "stream",
          "name": "stderr",
          "text": [
            "/usr/local/lib/python3.10/dist-packages/sklearn/base.py:493: UserWarning: X does not have valid feature names, but StandardScaler was fitted with feature names\n",
            "  warnings.warn(\n"
          ]
        },
        {
          "output_type": "stream",
          "name": "stdout",
          "text": [
            "\n",
            "Real-time Traffic Data: {'time': Timestamp('2024-10-07 13:24:24.614787'), 'traffic_volume': 127, 'accidents': 0, 'weather_condition': 0, 'special_event': 0, 'hour': 13, 'day_of_week': 0}\n",
            "Predicted Traffic Volume: 567.45\n",
            "At hour 13, control signal: Green for 40 seconds\n"
          ]
        },
        {
          "output_type": "stream",
          "name": "stderr",
          "text": [
            "/usr/local/lib/python3.10/dist-packages/sklearn/base.py:493: UserWarning: X does not have valid feature names, but StandardScaler was fitted with feature names\n",
            "  warnings.warn(\n"
          ]
        },
        {
          "output_type": "stream",
          "name": "stdout",
          "text": [
            "\n",
            "Real-time Traffic Data: {'time': Timestamp('2024-10-07 13:24:25.618857'), 'traffic_volume': 573, 'accidents': 0, 'weather_condition': 0, 'special_event': 0, 'hour': 13, 'day_of_week': 0}\n",
            "Predicted Traffic Volume: 567.45\n",
            "At hour 13, control signal: Green for 40 seconds\n"
          ]
        },
        {
          "output_type": "stream",
          "name": "stderr",
          "text": [
            "/usr/local/lib/python3.10/dist-packages/sklearn/base.py:493: UserWarning: X does not have valid feature names, but StandardScaler was fitted with feature names\n",
            "  warnings.warn(\n"
          ]
        },
        {
          "output_type": "stream",
          "name": "stdout",
          "text": [
            "\n",
            "Real-time Traffic Data: {'time': Timestamp('2024-10-07 13:24:26.622955'), 'traffic_volume': 124, 'accidents': 0, 'weather_condition': 0, 'special_event': 0, 'hour': 13, 'day_of_week': 0}\n",
            "Predicted Traffic Volume: 567.45\n",
            "At hour 13, control signal: Green for 40 seconds\n"
          ]
        },
        {
          "output_type": "stream",
          "name": "stderr",
          "text": [
            "/usr/local/lib/python3.10/dist-packages/sklearn/base.py:493: UserWarning: X does not have valid feature names, but StandardScaler was fitted with feature names\n",
            "  warnings.warn(\n"
          ]
        },
        {
          "output_type": "stream",
          "name": "stdout",
          "text": [
            "\n",
            "Real-time Traffic Data: {'time': Timestamp('2024-10-07 13:24:27.625189'), 'traffic_volume': 210, 'accidents': 0, 'weather_condition': 0, 'special_event': 0, 'hour': 13, 'day_of_week': 0}\n",
            "Predicted Traffic Volume: 567.45\n",
            "At hour 13, control signal: Green for 40 seconds\n"
          ]
        },
        {
          "output_type": "stream",
          "name": "stderr",
          "text": [
            "/usr/local/lib/python3.10/dist-packages/sklearn/base.py:493: UserWarning: X does not have valid feature names, but StandardScaler was fitted with feature names\n",
            "  warnings.warn(\n"
          ]
        },
        {
          "output_type": "stream",
          "name": "stdout",
          "text": [
            "\n",
            "Real-time Traffic Data: {'time': Timestamp('2024-10-07 13:24:28.627462'), 'traffic_volume': 468, 'accidents': 0, 'weather_condition': 0, 'special_event': 0, 'hour': 13, 'day_of_week': 0}\n",
            "Predicted Traffic Volume: 567.45\n",
            "At hour 13, control signal: Green for 40 seconds\n"
          ]
        },
        {
          "output_type": "stream",
          "name": "stderr",
          "text": [
            "/usr/local/lib/python3.10/dist-packages/sklearn/base.py:493: UserWarning: X does not have valid feature names, but StandardScaler was fitted with feature names\n",
            "  warnings.warn(\n"
          ]
        },
        {
          "output_type": "stream",
          "name": "stdout",
          "text": [
            "\n",
            "Real-time Traffic Data: {'time': Timestamp('2024-10-07 13:24:29.629723'), 'traffic_volume': 791, 'accidents': 0, 'weather_condition': 0, 'special_event': 0, 'hour': 13, 'day_of_week': 0}\n",
            "Predicted Traffic Volume: 567.45\n",
            "At hour 13, control signal: Green for 40 seconds\n"
          ]
        },
        {
          "output_type": "stream",
          "name": "stderr",
          "text": [
            "/usr/local/lib/python3.10/dist-packages/sklearn/base.py:493: UserWarning: X does not have valid feature names, but StandardScaler was fitted with feature names\n",
            "  warnings.warn(\n"
          ]
        },
        {
          "output_type": "stream",
          "name": "stdout",
          "text": [
            "\n",
            "Real-time Traffic Data: {'time': Timestamp('2024-10-07 13:24:30.632040'), 'traffic_volume': 976, 'accidents': 0, 'weather_condition': 0, 'special_event': 0, 'hour': 13, 'day_of_week': 0}\n",
            "Predicted Traffic Volume: 567.45\n",
            "At hour 13, control signal: Green for 40 seconds\n"
          ]
        },
        {
          "output_type": "stream",
          "name": "stderr",
          "text": [
            "/usr/local/lib/python3.10/dist-packages/sklearn/base.py:493: UserWarning: X does not have valid feature names, but StandardScaler was fitted with feature names\n",
            "  warnings.warn(\n"
          ]
        },
        {
          "output_type": "stream",
          "name": "stdout",
          "text": [
            "\n",
            "Real-time Traffic Data: {'time': Timestamp('2024-10-07 13:24:31.634393'), 'traffic_volume': 376, 'accidents': 0, 'weather_condition': 1, 'special_event': 0, 'hour': 13, 'day_of_week': 0}\n",
            "Predicted Traffic Volume: 599.01\n",
            "At hour 13, control signal: Green for 40 seconds\n"
          ]
        },
        {
          "output_type": "stream",
          "name": "stderr",
          "text": [
            "/usr/local/lib/python3.10/dist-packages/sklearn/base.py:493: UserWarning: X does not have valid feature names, but StandardScaler was fitted with feature names\n",
            "  warnings.warn(\n"
          ]
        },
        {
          "output_type": "stream",
          "name": "stdout",
          "text": [
            "\n",
            "Real-time Traffic Data: {'time': Timestamp('2024-10-07 13:24:32.636726'), 'traffic_volume': 942, 'accidents': 0, 'weather_condition': 0, 'special_event': 0, 'hour': 13, 'day_of_week': 0}\n",
            "Predicted Traffic Volume: 567.45\n",
            "At hour 13, control signal: Green for 40 seconds\n"
          ]
        },
        {
          "output_type": "stream",
          "name": "stderr",
          "text": [
            "/usr/local/lib/python3.10/dist-packages/sklearn/base.py:493: UserWarning: X does not have valid feature names, but StandardScaler was fitted with feature names\n",
            "  warnings.warn(\n"
          ]
        },
        {
          "output_type": "stream",
          "name": "stdout",
          "text": [
            "\n",
            "Real-time Traffic Data: {'time': Timestamp('2024-10-07 13:24:33.638961'), 'traffic_volume': 236, 'accidents': 0, 'weather_condition': 1, 'special_event': 0, 'hour': 13, 'day_of_week': 0}\n",
            "Predicted Traffic Volume: 599.01\n",
            "At hour 13, control signal: Green for 40 seconds\n"
          ]
        },
        {
          "output_type": "stream",
          "name": "stderr",
          "text": [
            "/usr/local/lib/python3.10/dist-packages/sklearn/base.py:493: UserWarning: X does not have valid feature names, but StandardScaler was fitted with feature names\n",
            "  warnings.warn(\n"
          ]
        },
        {
          "output_type": "stream",
          "name": "stdout",
          "text": [
            "\n",
            "Real-time Traffic Data: {'time': Timestamp('2024-10-07 13:24:34.640940'), 'traffic_volume': 647, 'accidents': 0, 'weather_condition': 0, 'special_event': 0, 'hour': 13, 'day_of_week': 0}\n",
            "Predicted Traffic Volume: 567.45\n",
            "At hour 13, control signal: Green for 40 seconds\n"
          ]
        },
        {
          "output_type": "stream",
          "name": "stderr",
          "text": [
            "/usr/local/lib/python3.10/dist-packages/sklearn/base.py:493: UserWarning: X does not have valid feature names, but StandardScaler was fitted with feature names\n",
            "  warnings.warn(\n"
          ]
        },
        {
          "output_type": "stream",
          "name": "stdout",
          "text": [
            "\n",
            "Real-time Traffic Data: {'time': Timestamp('2024-10-07 13:24:35.643296'), 'traffic_volume': 174, 'accidents': 1, 'weather_condition': 1, 'special_event': 0, 'hour': 13, 'day_of_week': 0}\n",
            "Predicted Traffic Volume: 605.66\n",
            "At hour 13, control signal: Green for 40 seconds\n"
          ]
        },
        {
          "output_type": "stream",
          "name": "stderr",
          "text": [
            "/usr/local/lib/python3.10/dist-packages/sklearn/base.py:493: UserWarning: X does not have valid feature names, but StandardScaler was fitted with feature names\n",
            "  warnings.warn(\n"
          ]
        },
        {
          "output_type": "stream",
          "name": "stdout",
          "text": [
            "\n",
            "Real-time Traffic Data: {'time': Timestamp('2024-10-07 13:24:36.645555'), 'traffic_volume': 603, 'accidents': 0, 'weather_condition': 1, 'special_event': 0, 'hour': 13, 'day_of_week': 0}\n",
            "Predicted Traffic Volume: 599.01\n",
            "At hour 13, control signal: Green for 40 seconds\n"
          ]
        },
        {
          "output_type": "stream",
          "name": "stderr",
          "text": [
            "/usr/local/lib/python3.10/dist-packages/sklearn/base.py:493: UserWarning: X does not have valid feature names, but StandardScaler was fitted with feature names\n",
            "  warnings.warn(\n"
          ]
        },
        {
          "output_type": "stream",
          "name": "stdout",
          "text": [
            "\n",
            "Real-time Traffic Data: {'time': Timestamp('2024-10-07 13:24:37.647864'), 'traffic_volume': 814, 'accidents': 0, 'weather_condition': 1, 'special_event': 0, 'hour': 13, 'day_of_week': 0}\n",
            "Predicted Traffic Volume: 599.01\n",
            "At hour 13, control signal: Green for 40 seconds\n"
          ]
        },
        {
          "output_type": "stream",
          "name": "stderr",
          "text": [
            "/usr/local/lib/python3.10/dist-packages/sklearn/base.py:493: UserWarning: X does not have valid feature names, but StandardScaler was fitted with feature names\n",
            "  warnings.warn(\n"
          ]
        },
        {
          "output_type": "stream",
          "name": "stdout",
          "text": [
            "\n",
            "Real-time Traffic Data: {'time': Timestamp('2024-10-07 13:24:38.650197'), 'traffic_volume': 425, 'accidents': 0, 'weather_condition': 0, 'special_event': 0, 'hour': 13, 'day_of_week': 0}\n",
            "Predicted Traffic Volume: 567.45\n",
            "At hour 13, control signal: Green for 40 seconds\n"
          ]
        },
        {
          "output_type": "stream",
          "name": "stderr",
          "text": [
            "/usr/local/lib/python3.10/dist-packages/sklearn/base.py:493: UserWarning: X does not have valid feature names, but StandardScaler was fitted with feature names\n",
            "  warnings.warn(\n"
          ]
        },
        {
          "output_type": "stream",
          "name": "stdout",
          "text": [
            "\n",
            "Real-time Traffic Data: {'time': Timestamp('2024-10-07 13:24:39.652500'), 'traffic_volume': 631, 'accidents': 1, 'weather_condition': 0, 'special_event': 0, 'hour': 13, 'day_of_week': 0}\n",
            "Predicted Traffic Volume: 574.10\n",
            "At hour 13, control signal: Green for 40 seconds\n"
          ]
        },
        {
          "output_type": "stream",
          "name": "stderr",
          "text": [
            "/usr/local/lib/python3.10/dist-packages/sklearn/base.py:493: UserWarning: X does not have valid feature names, but StandardScaler was fitted with feature names\n",
            "  warnings.warn(\n"
          ]
        },
        {
          "output_type": "stream",
          "name": "stdout",
          "text": [
            "\n",
            "Real-time Traffic Data: {'time': Timestamp('2024-10-07 13:24:40.654799'), 'traffic_volume': 419, 'accidents': 0, 'weather_condition': 0, 'special_event': 0, 'hour': 13, 'day_of_week': 0}\n",
            "Predicted Traffic Volume: 567.45\n",
            "At hour 13, control signal: Green for 40 seconds\n"
          ]
        },
        {
          "output_type": "stream",
          "name": "stderr",
          "text": [
            "/usr/local/lib/python3.10/dist-packages/sklearn/base.py:493: UserWarning: X does not have valid feature names, but StandardScaler was fitted with feature names\n",
            "  warnings.warn(\n"
          ]
        },
        {
          "output_type": "stream",
          "name": "stdout",
          "text": [
            "\n",
            "Real-time Traffic Data: {'time': Timestamp('2024-10-07 13:24:41.658948'), 'traffic_volume': 944, 'accidents': 0, 'weather_condition': 0, 'special_event': 0, 'hour': 13, 'day_of_week': 0}\n",
            "Predicted Traffic Volume: 567.45\n",
            "At hour 13, control signal: Green for 40 seconds\n"
          ]
        },
        {
          "output_type": "stream",
          "name": "stderr",
          "text": [
            "/usr/local/lib/python3.10/dist-packages/sklearn/base.py:493: UserWarning: X does not have valid feature names, but StandardScaler was fitted with feature names\n",
            "  warnings.warn(\n"
          ]
        },
        {
          "output_type": "stream",
          "name": "stdout",
          "text": [
            "\n",
            "Real-time Traffic Data: {'time': Timestamp('2024-10-07 13:24:42.663112'), 'traffic_volume': 109, 'accidents': 0, 'weather_condition': 0, 'special_event': 0, 'hour': 13, 'day_of_week': 0}\n",
            "Predicted Traffic Volume: 567.45\n",
            "At hour 13, control signal: Green for 40 seconds\n"
          ]
        },
        {
          "output_type": "stream",
          "name": "stderr",
          "text": [
            "/usr/local/lib/python3.10/dist-packages/sklearn/base.py:493: UserWarning: X does not have valid feature names, but StandardScaler was fitted with feature names\n",
            "  warnings.warn(\n"
          ]
        },
        {
          "output_type": "stream",
          "name": "stdout",
          "text": [
            "\n",
            "Real-time Traffic Data: {'time': Timestamp('2024-10-07 13:24:43.665403'), 'traffic_volume': 267, 'accidents': 0, 'weather_condition': 0, 'special_event': 0, 'hour': 13, 'day_of_week': 0}\n",
            "Predicted Traffic Volume: 567.45\n",
            "At hour 13, control signal: Green for 40 seconds\n"
          ]
        },
        {
          "output_type": "stream",
          "name": "stderr",
          "text": [
            "/usr/local/lib/python3.10/dist-packages/sklearn/base.py:493: UserWarning: X does not have valid feature names, but StandardScaler was fitted with feature names\n",
            "  warnings.warn(\n"
          ]
        },
        {
          "output_type": "stream",
          "name": "stdout",
          "text": [
            "\n",
            "Real-time Traffic Data: {'time': Timestamp('2024-10-07 13:24:44.667706'), 'traffic_volume': 884, 'accidents': 0, 'weather_condition': 0, 'special_event': 0, 'hour': 13, 'day_of_week': 0}\n",
            "Predicted Traffic Volume: 567.45\n",
            "At hour 13, control signal: Green for 40 seconds\n"
          ]
        },
        {
          "output_type": "stream",
          "name": "stderr",
          "text": [
            "/usr/local/lib/python3.10/dist-packages/sklearn/base.py:493: UserWarning: X does not have valid feature names, but StandardScaler was fitted with feature names\n",
            "  warnings.warn(\n"
          ]
        }
      ]
    }
  ]
}